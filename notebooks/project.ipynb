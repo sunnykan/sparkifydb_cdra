{
 "cells": [
  {
   "cell_type": "markdown",
   "metadata": {},
   "source": [
    "# Part I. ETL Pipeline for Pre-Processing the Files"
   ]
  },
  {
   "cell_type": "code",
   "execution_count": 1,
   "metadata": {},
   "outputs": [],
   "source": [
    "import cassandra\n",
    "import csv\n",
    "\n",
    "from pathlib import Path"
   ]
  },
  {
   "cell_type": "markdown",
   "metadata": {},
   "source": [
    "#### Creating list of filepaths to process original event csv data files"
   ]
  },
  {
   "cell_type": "code",
   "execution_count": 2,
   "metadata": {},
   "outputs": [],
   "source": [
    "file_path = Path.cwd() / \"event_data\"\n",
    "file_path_list = list(file_path.rglob(\"*.csv\"))"
   ]
  },
  {
   "cell_type": "markdown",
   "metadata": {},
   "source": [
    "#### Processing the files to create the data file csv that will be used for Apache Casssandra tables"
   ]
  },
  {
   "cell_type": "code",
   "execution_count": 3,
   "metadata": {},
   "outputs": [],
   "source": [
    "csv.register_dialect('myDialect', quoting=csv.QUOTE_ALL, skipinitialspace=True)\n",
    "keep_fields = ['artist','firstName','gender','itemInSession','lastName','length', 'level','location','sessionId','song','userId']\n",
    "\n",
    "with open('event_datafile_new.csv', 'w', encoding = 'utf8', newline = '') as fhand_out:\n",
    "    dict_writer = csv.DictWriter(fhand_out, dialect='myDialect', fieldnames=keep_fields)\n",
    "    dict_writer.writeheader()\n",
    "    \n",
    "    for f in file_path_list:\n",
    "        with open(f, 'r', encoding = 'utf8', newline = '') as fhand_in:\n",
    "            dict_reader = csv.DictReader(fhand_in)\n",
    "            for row in dict_reader:\n",
    "                if row['artist']:\n",
    "                    dict_writer.writerow({field: row[field] for field in keep_fields})\n",
    "            "
   ]
  },
  {
   "cell_type": "code",
   "execution_count": 4,
   "metadata": {},
   "outputs": [
    {
     "name": "stdout",
     "output_type": "stream",
     "text": [
      "6821\n"
     ]
    }
   ],
   "source": [
    "# check the number of rows in csv file\n",
    "with open('event_datafile_new.csv', 'r', encoding = 'utf8') as f:\n",
    "    print(sum(1 for line in f))"
   ]
  },
  {
   "cell_type": "markdown",
   "metadata": {},
   "source": [
    "# Part II. Using Apache Cassandra to analyze data. \n",
    "\n",
    "## The event_datafile_new.csv contains the following columns:: \n",
    "- artist \n",
    "- firstName of user\n",
    "- gender of user\n",
    "- item number in session\n",
    "- last name of user\n",
    "- length of the song\n",
    "- level (paid or free song)\n",
    "- location of the user\n",
    "- sessionId\n",
    "- song title\n",
    "- userId\n",
    "\n",
    "A screenshot of the denormalized data is as shown:<br>\n",
    "\n",
    "<img src=\"../images/image_event_datafile_new.jpg\">"
   ]
  },
  {
   "cell_type": "markdown",
   "metadata": {},
   "source": [
    "#### Create a Cluster"
   ]
  },
  {
   "cell_type": "code",
   "execution_count": 5,
   "metadata": {},
   "outputs": [],
   "source": [
    "from cassandra.cluster import Cluster\n",
    "\n",
    "cluster = Cluster()\n",
    "session = cluster.connect()"
   ]
  },
  {
   "cell_type": "markdown",
   "metadata": {},
   "source": [
    "#### Create Keyspace"
   ]
  },
  {
   "cell_type": "code",
   "execution_count": 6,
   "metadata": {},
   "outputs": [],
   "source": [
    "try:\n",
    "    session.execute(\"\"\"create keyspace if not exists music\n",
    "        with replication = \n",
    "        { 'class' : 'SimpleStrategy', 'replication_factor' : 1 }\n",
    "    \"\"\")\n",
    "except Exception as e:\n",
    "    print(e)"
   ]
  },
  {
   "cell_type": "markdown",
   "metadata": {},
   "source": [
    "#### Set Keyspace"
   ]
  },
  {
   "cell_type": "code",
   "execution_count": 7,
   "metadata": {},
   "outputs": [],
   "source": [
    "try:\n",
    "    session.set_keyspace('music')\n",
    "except Exception as e:\n",
    "    print(e)"
   ]
  },
  {
   "cell_type": "markdown",
   "metadata": {},
   "source": [
    "## Modelling database table based on the queries we want to run. "
   ]
  },
  {
   "cell_type": "code",
   "execution_count": 8,
   "metadata": {},
   "outputs": [],
   "source": [
    "file = 'event_datafile_new.csv'"
   ]
  },
  {
   "cell_type": "markdown",
   "metadata": {},
   "source": [
    "#### Query 1: Return the artist, song title and song's length in the music app history that was heard during sessionId = 338, and itemInSession  = 4"
   ]
  },
  {
   "cell_type": "code",
   "execution_count": 9,
   "metadata": {},
   "outputs": [],
   "source": [
    "# Query 1:\n",
    "# We know the where conditions use sessionId and itemInSession. We can use sessionId as the partition key and itemInSession as the\n",
    "# clustering column. We treat these together as the primary key. \n",
    "\n",
    "# create table with a primary key chosen to process the query\n",
    "query = \"create table if not exists song_by_sessionid_itemsession \"\n",
    "query = query + \"(sessionId int, itemInSession int, artist text, song text, length float, primary key (sessionId, itemInSession))\"\n",
    "\n",
    "try:\n",
    "    session.execute(query)\n",
    "except Exception as e:\n",
    "    print(e)\n",
    "\n",
    "#insert data into table\n",
    "query = \"insert into song_by_sessionid_itemsession (sessionId, itemInSession, artist, song, length)\"\n",
    "query = query + \" values (%s, %s, %s, %s, %s)\"\n",
    "\n",
    "with open(file, encoding = 'utf8') as fhand:\n",
    "    dict_reader = csv.DictReader(fhand)\n",
    "    for row in dict_reader:\n",
    "        session.execute(query, (int(row['sessionId']), int(row['itemInSession']), row['artist'], row['song'], float(row['length'])))"
   ]
  },
  {
   "cell_type": "markdown",
   "metadata": {},
   "source": [
    "#### We run the query and verify that the data has been inserted into each table."
   ]
  },
  {
   "cell_type": "code",
   "execution_count": 10,
   "metadata": {
    "scrolled": true
   },
   "outputs": [
    {
     "name": "stdout",
     "output_type": "stream",
     "text": [
      "Faithless Music Matters (Mark Knight Dub) 495.30731201171875\n"
     ]
    }
   ],
   "source": [
    "## TO-DO: Add in the SELECT statement to verify the data was entered into the table\n",
    "query = \"\"\"select artist, song, length\n",
    "from song_by_sessionid_itemsession \n",
    "where sessionId = 338 and itemInSession = 4\"\"\"\n",
    "\n",
    "rows = session.execute(query)\n",
    "\n",
    "for row in rows:\n",
    "    print(row.artist, row.song, row.length)"
   ]
  },
  {
   "cell_type": "markdown",
   "metadata": {},
   "source": [
    "#### Query 2: Return the name of artist, song (sorted by itemInSession) and user (first and last name) for userid = 10, sessionid = 182 "
   ]
  },
  {
   "cell_type": "code",
   "execution_count": 11,
   "metadata": {},
   "outputs": [],
   "source": [
    "# Query 2: \n",
    "\n",
    "# The where conditions use userId and sessionId. We can use userId and sessionId as a composite partition key for better performance.\n",
    "# We know that song should be sorted by itemInSession and hence, choose it as the next clustering column\n",
    "# followed by song. The primary key is comprised of userId, sessionId, itemInSession and song.\n",
    "\n",
    "# create table with a primary key chosen to process the query\n",
    "query = \"create table if not exists artist_by_userid_sessionid \"\n",
    "query = query + \"\"\"(userId int, sessionId int, itemInSession int, artist text, song text, firstName text, lastName text,\n",
    "primary key ((userId, sessionId), itemInSession, song))\"\"\"\n",
    "\n",
    "try:\n",
    "    session.execute(query)\n",
    "except Exception as e:\n",
    "    print(e)\n",
    "\n",
    "# insert data into table\n",
    "query = \"insert into artist_by_userid_sessionid (userId, sessionId, itemInSession, artist, song, firstName, lastName)\"\n",
    "query = query + \" values (%s, %s, %s, %s, %s, %s, %s)\"\n",
    "\n",
    "with open(file, encoding = 'utf8') as fhand:\n",
    "    dict_reader = csv.DictReader(fhand)\n",
    "    for row in dict_reader:\n",
    "        session.execute(query, (int(row['userId']), int(row['sessionId']), int(row['itemInSession']), row['artist'], row['song'], row['firstName'], row['lastName']))\n"
   ]
  },
  {
   "cell_type": "markdown",
   "metadata": {},
   "source": [
    "#### We run the query and verify that the data has been inserted into each table."
   ]
  },
  {
   "cell_type": "code",
   "execution_count": 12,
   "metadata": {},
   "outputs": [
    {
     "name": "stdout",
     "output_type": "stream",
     "text": [
      "Down To The Bone Keep On Keepin' On Sylvie Cruz\n",
      "Three Drives Greece 2000 Sylvie Cruz\n",
      "Sebastien Tellier Kilometer Sylvie Cruz\n",
      "Lonnie Gordon Catch You Baby (Steve Pitron & Max Sanna Radio Edit) Sylvie Cruz\n"
     ]
    }
   ],
   "source": [
    "query = \"select artist, song, firstName, lastName from artist_by_userid_sessionid where userId = 10 and sessionId = 182\"\n",
    "\n",
    "rows = session.execute(query)\n",
    "\n",
    "for row in rows:\n",
    "    print(row.artist, row.song, row.firstname, row.lastname)"
   ]
  },
  {
   "cell_type": "markdown",
   "metadata": {},
   "source": [
    "#### Query 3: Return every user name (first and last) in my music app history who listened to the song 'All Hands Against His Own'"
   ]
  },
  {
   "cell_type": "code",
   "execution_count": 13,
   "metadata": {},
   "outputs": [],
   "source": [
    "# Query 3:\n",
    "\n",
    "# The where condition refers to song and hence, we use it as the partition key. In order to make is unique we need clustering\n",
    "# column(s). We know that we want to retrieve the first and last names. We can use these as the clustering columns. \n",
    "\n",
    "# create table with a primary key chosen to process the query\n",
    "\n",
    "query = \"create table if not exists username_by_song \"\n",
    "query = query + \"(song text, userId int, firstName text, lastName text, primary key (song, userId))\"\n",
    "\n",
    "try:\n",
    "    session.execute(query)\n",
    "except Exception as e:\n",
    "    print(e)\n",
    "    \n",
    "# insert data into table\n",
    "query = \"insert into username_by_song (song, userId, firstName, lastName)\"\n",
    "query = query + \" values (%s, %s, %s, %s)\"\n",
    "\n",
    "with open(file, encoding = 'utf8') as fhand:\n",
    "    dict_reader = csv.DictReader(fhand)\n",
    "    for row in dict_reader:\n",
    "        session.execute(query, (row['song'], int(row['userId']), row['firstName'], row['lastName']))"
   ]
  },
  {
   "cell_type": "markdown",
   "metadata": {},
   "source": [
    "#### We run the query and verify that the data has been inserted into each table."
   ]
  },
  {
   "cell_type": "code",
   "execution_count": 14,
   "metadata": {},
   "outputs": [
    {
     "name": "stdout",
     "output_type": "stream",
     "text": [
      "Jacqueline Lynch\n",
      "Tegan Levine\n",
      "Sara Johnson\n"
     ]
    }
   ],
   "source": [
    "query = \"select firstname, lastname from username_by_song where song = 'All Hands Against His Own'\"\n",
    "\n",
    "rows = session.execute(query)\n",
    "\n",
    "for row in rows:\n",
    "    print(row.firstname, row.lastname)"
   ]
  },
  {
   "cell_type": "markdown",
   "metadata": {},
   "source": [
    "### Drop all tables"
   ]
  },
  {
   "cell_type": "code",
   "execution_count": 15,
   "metadata": {},
   "outputs": [
    {
     "name": "stdout",
     "output_type": "stream",
     "text": [
      "errors={'127.0.0.1:9042': 'Client request timeout. See Session.execute[_async](timeout)'}, last_host=127.0.0.1:9042\n",
      "errors={'127.0.0.1:9042': 'Client request timeout. See Session.execute[_async](timeout)'}, last_host=127.0.0.1:9042\n",
      "errors={'127.0.0.1:9042': 'Client request timeout. See Session.execute[_async](timeout)'}, last_host=127.0.0.1:9042\n"
     ]
    }
   ],
   "source": [
    "query = \"drop table song_by_sessionid_itemsession\"\n",
    "try:\n",
    "    rows = session.execute(query)\n",
    "except Exception as e:\n",
    "    print(e)\n",
    "\n",
    "query = \"drop table artist_by_userid_sessionid\"\n",
    "try:\n",
    "    rows = session.execute(query)\n",
    "except Exception as e:\n",
    "    print(e)\n",
    "    \n",
    "query = \"drop table username_by_song\"\n",
    "try:\n",
    "    rows = session.execute(query)\n",
    "except Exception as e:\n",
    "    print(e)"
   ]
  },
  {
   "cell_type": "markdown",
   "metadata": {},
   "source": [
    "### Close the session and cluster connection¶"
   ]
  },
  {
   "cell_type": "code",
   "execution_count": 16,
   "metadata": {},
   "outputs": [],
   "source": [
    "session.shutdown()\n",
    "cluster.shutdown()"
   ]
  }
 ],
 "metadata": {
  "kernelspec": {
   "display_name": "Python 3 (ipykernel)",
   "language": "python",
   "name": "python3"
  },
  "language_info": {
   "codemirror_mode": {
    "name": "ipython",
    "version": 3
   },
   "file_extension": ".py",
   "mimetype": "text/x-python",
   "name": "python",
   "nbconvert_exporter": "python",
   "pygments_lexer": "ipython3",
   "version": "3.9.6"
  }
 },
 "nbformat": 4,
 "nbformat_minor": 4
}
